{
 "cells": [
  {
   "cell_type": "code",
   "execution_count": 14,
   "metadata": {},
   "outputs": [],
   "source": [
    "# %load solr.py\n",
    "import regex as re\n",
    "import urllib as urllib\n",
    "import json\n",
    "import requests\n",
    "\n",
    "usr=\"the\"\n",
    "user = re.sub('[^a-zA-Z0-9\\n\\.]', ' ', usr)\n",
    "ip=\"3.135.224.122\"\n",
    "inurl = 'http://'+ip+':8983/solr/P4/select?q='+urllib.parse.quote_plus(\"+\".join(user.split()))+'&defType=dismax&qf=full_text&wt=json&indent=true&rows=5'\n",
    "    #fl=id%2Cscore%2Cfull_text%2Ctext\n",
    "data = urllib.request.urlopen(inurl)\n",
    "#data=requests.get(inurl)\n",
    "with open('./P4.json',\"w+\") as f:\n",
    "    string = data.read().decode('utf-8').replace(\"'\", '\"')\n",
    "        #string=string['response']['docs']\n",
    "    json_obj = json.loads(string)['response']['docs']\n",
    "    json.dump(json_obj,f,indent=4)"
   ]
  },
  {
   "cell_type": "code",
   "execution_count": 1,
   "metadata": {},
   "outputs": [],
   "source": [
    "\n",
    "import regex as re\n",
    "import urllib as urllib\n",
    "import json\n",
    "import requests\n",
    "\n",
    "usr=\"the\"\n",
    "user = re.sub('[^a-zA-Z0-9\\n\\.]', ' ', usr)\n",
    "ip=\"3.135.224.122\"\n",
    "inurl = 'http://'+ip+':8983/solr/P4/select?q='+urllib.parse.quote_plus(\"+\".join(user.split()))+'&defType=dismax&qf=full_text&wt=json&indent=true&rows=500'\n",
    "    #fl=id%2Cscore%2Cfull_text%2Ctext\n",
    "#data = urllib.request.urlopen(inurl)\n",
    "data=requests.get(inurl,allow_redirects=False)\n",
    "data = data.json()\n",
    "data=data['response']['docs']\n",
    "with open('data.json', 'w+') as f:\n",
    "    json.dump(data, f, indent=4)"
   ]
  },
  {
   "cell_type": "code",
   "execution_count": 12,
   "metadata": {},
   "outputs": [
    {
     "ename": "AttributeError",
     "evalue": "'list' object has no attribute 'json'",
     "output_type": "error",
     "traceback": [
      "\u001b[1;31m---------------------------------------------------------------------------\u001b[0m",
      "\u001b[1;31mAttributeError\u001b[0m                            Traceback (most recent call last)",
      "\u001b[1;32m<ipython-input-12-6e7971ad045a>\u001b[0m in \u001b[0;36m<module>\u001b[1;34m\u001b[0m\n\u001b[1;32m----> 1\u001b[1;33m \u001b[0mdata\u001b[0m \u001b[1;33m=\u001b[0m \u001b[0mdata\u001b[0m\u001b[1;33m.\u001b[0m\u001b[0mjson\u001b[0m\u001b[1;33m(\u001b[0m\u001b[1;33m)\u001b[0m\u001b[1;33m\u001b[0m\u001b[1;33m\u001b[0m\u001b[0m\n\u001b[0m\u001b[0;32m      2\u001b[0m \u001b[0mdata\u001b[0m\u001b[1;33m=\u001b[0m\u001b[0mdata\u001b[0m\u001b[1;33m[\u001b[0m\u001b[1;34m'response'\u001b[0m\u001b[1;33m]\u001b[0m\u001b[1;33m[\u001b[0m\u001b[1;34m'docs'\u001b[0m\u001b[1;33m]\u001b[0m\u001b[1;33m\u001b[0m\u001b[1;33m\u001b[0m\u001b[0m\n\u001b[0;32m      3\u001b[0m \u001b[1;32mwith\u001b[0m \u001b[0mopen\u001b[0m\u001b[1;33m(\u001b[0m\u001b[1;34m'data.json'\u001b[0m\u001b[1;33m,\u001b[0m \u001b[1;34m'w+'\u001b[0m\u001b[1;33m)\u001b[0m \u001b[1;32mas\u001b[0m \u001b[0mf\u001b[0m\u001b[1;33m:\u001b[0m\u001b[1;33m\u001b[0m\u001b[1;33m\u001b[0m\u001b[0m\n\u001b[0;32m      4\u001b[0m     \u001b[0mjson\u001b[0m\u001b[1;33m.\u001b[0m\u001b[0mdump\u001b[0m\u001b[1;33m(\u001b[0m\u001b[0mdata\u001b[0m\u001b[1;33m,\u001b[0m \u001b[0mf\u001b[0m\u001b[1;33m)\u001b[0m\u001b[1;33m\u001b[0m\u001b[1;33m\u001b[0m\u001b[0m\n\u001b[0;32m      5\u001b[0m \u001b[1;31m#with open('./P4.json',\"w+\") as f:\u001b[0m\u001b[1;33m\u001b[0m\u001b[1;33m\u001b[0m\u001b[1;33m\u001b[0m\u001b[0m\n",
      "\u001b[1;31mAttributeError\u001b[0m: 'list' object has no attribute 'json'"
     ]
    }
   ],
   "source": [
    "\n",
    "#with open('./P4.json',\"w+\") as f:\n",
    "#    string = data.read().decode('utf-8').replace(\"'\", '\"')\n",
    "#        #string=string['response']['docs']\n",
    "#    json_obj = json.loads(string)['response']['docs']\n",
    "#    json.dump(json_obj,f,indent=4)"
   ]
  }
 ],
 "metadata": {
  "kernelspec": {
   "display_name": "Python 3",
   "language": "python",
   "name": "python3"
  },
  "language_info": {
   "codemirror_mode": {
    "name": "ipython",
    "version": 3
   },
   "file_extension": ".py",
   "mimetype": "text/x-python",
   "name": "python",
   "nbconvert_exporter": "python",
   "pygments_lexer": "ipython3",
   "version": "3.7.7"
  }
 },
 "nbformat": 4,
 "nbformat_minor": 4
}
